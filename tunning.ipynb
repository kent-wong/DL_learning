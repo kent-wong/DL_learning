{
 "cells": [
  {
   "cell_type": "markdown",
   "metadata": {},
   "source": [
    "# Your first neural network\n",
    "\n",
    "In this project, you'll build your first neural network and use it to predict daily bike rental ridership. We've provided some of the code, but left the implementation of the neural network up to you (for the most part). After you've submitted this project, feel free to explore the data and the model more.\n",
    "\n"
   ]
  },
  {
   "cell_type": "code",
   "execution_count": 109,
   "metadata": {
    "collapsed": true
   },
   "outputs": [],
   "source": [
    "%matplotlib inline\n",
    "%config InlineBackend.figure_format = 'retina'\n",
    "\n",
    "import numpy as np\n",
    "import pandas as pd\n",
    "import matplotlib.pyplot as plt"
   ]
  },
  {
   "cell_type": "markdown",
   "metadata": {},
   "source": [
    "## Load and prepare the data\n",
    "\n",
    "A critical step in working with neural networks is preparing the data correctly. Variables on different scales make it difficult for the network to efficiently learn the correct weights. Below, we've written the code to load and prepare the data. You'll learn more about this soon!"
   ]
  },
  {
   "cell_type": "code",
   "execution_count": 110,
   "metadata": {
    "collapsed": true
   },
   "outputs": [],
   "source": [
    "data_path = 'Bike-Sharing-Dataset/hour.csv'\n",
    "\n",
    "rides = pd.read_csv(data_path)"
   ]
  },
  {
   "cell_type": "code",
   "execution_count": 111,
   "metadata": {},
   "outputs": [
    {
     "data": {
      "text/html": [
       "<div>\n",
       "<table border=\"1\" class=\"dataframe\">\n",
       "  <thead>\n",
       "    <tr style=\"text-align: right;\">\n",
       "      <th></th>\n",
       "      <th>instant</th>\n",
       "      <th>dteday</th>\n",
       "      <th>season</th>\n",
       "      <th>yr</th>\n",
       "      <th>mnth</th>\n",
       "      <th>hr</th>\n",
       "      <th>holiday</th>\n",
       "      <th>weekday</th>\n",
       "      <th>workingday</th>\n",
       "      <th>weathersit</th>\n",
       "      <th>temp</th>\n",
       "      <th>atemp</th>\n",
       "      <th>hum</th>\n",
       "      <th>windspeed</th>\n",
       "      <th>casual</th>\n",
       "      <th>registered</th>\n",
       "      <th>cnt</th>\n",
       "    </tr>\n",
       "  </thead>\n",
       "  <tbody>\n",
       "    <tr>\n",
       "      <th>0</th>\n",
       "      <td>1</td>\n",
       "      <td>2011-01-01</td>\n",
       "      <td>1</td>\n",
       "      <td>0</td>\n",
       "      <td>1</td>\n",
       "      <td>0</td>\n",
       "      <td>0</td>\n",
       "      <td>6</td>\n",
       "      <td>0</td>\n",
       "      <td>1</td>\n",
       "      <td>0.24</td>\n",
       "      <td>0.2879</td>\n",
       "      <td>0.81</td>\n",
       "      <td>0.0</td>\n",
       "      <td>3</td>\n",
       "      <td>13</td>\n",
       "      <td>16</td>\n",
       "    </tr>\n",
       "    <tr>\n",
       "      <th>1</th>\n",
       "      <td>2</td>\n",
       "      <td>2011-01-01</td>\n",
       "      <td>1</td>\n",
       "      <td>0</td>\n",
       "      <td>1</td>\n",
       "      <td>1</td>\n",
       "      <td>0</td>\n",
       "      <td>6</td>\n",
       "      <td>0</td>\n",
       "      <td>1</td>\n",
       "      <td>0.22</td>\n",
       "      <td>0.2727</td>\n",
       "      <td>0.80</td>\n",
       "      <td>0.0</td>\n",
       "      <td>8</td>\n",
       "      <td>32</td>\n",
       "      <td>40</td>\n",
       "    </tr>\n",
       "    <tr>\n",
       "      <th>2</th>\n",
       "      <td>3</td>\n",
       "      <td>2011-01-01</td>\n",
       "      <td>1</td>\n",
       "      <td>0</td>\n",
       "      <td>1</td>\n",
       "      <td>2</td>\n",
       "      <td>0</td>\n",
       "      <td>6</td>\n",
       "      <td>0</td>\n",
       "      <td>1</td>\n",
       "      <td>0.22</td>\n",
       "      <td>0.2727</td>\n",
       "      <td>0.80</td>\n",
       "      <td>0.0</td>\n",
       "      <td>5</td>\n",
       "      <td>27</td>\n",
       "      <td>32</td>\n",
       "    </tr>\n",
       "    <tr>\n",
       "      <th>3</th>\n",
       "      <td>4</td>\n",
       "      <td>2011-01-01</td>\n",
       "      <td>1</td>\n",
       "      <td>0</td>\n",
       "      <td>1</td>\n",
       "      <td>3</td>\n",
       "      <td>0</td>\n",
       "      <td>6</td>\n",
       "      <td>0</td>\n",
       "      <td>1</td>\n",
       "      <td>0.24</td>\n",
       "      <td>0.2879</td>\n",
       "      <td>0.75</td>\n",
       "      <td>0.0</td>\n",
       "      <td>3</td>\n",
       "      <td>10</td>\n",
       "      <td>13</td>\n",
       "    </tr>\n",
       "    <tr>\n",
       "      <th>4</th>\n",
       "      <td>5</td>\n",
       "      <td>2011-01-01</td>\n",
       "      <td>1</td>\n",
       "      <td>0</td>\n",
       "      <td>1</td>\n",
       "      <td>4</td>\n",
       "      <td>0</td>\n",
       "      <td>6</td>\n",
       "      <td>0</td>\n",
       "      <td>1</td>\n",
       "      <td>0.24</td>\n",
       "      <td>0.2879</td>\n",
       "      <td>0.75</td>\n",
       "      <td>0.0</td>\n",
       "      <td>0</td>\n",
       "      <td>1</td>\n",
       "      <td>1</td>\n",
       "    </tr>\n",
       "  </tbody>\n",
       "</table>\n",
       "</div>"
      ],
      "text/plain": [
       "   instant      dteday  season  yr  mnth  hr  holiday  weekday  workingday  \\\n",
       "0        1  2011-01-01       1   0     1   0        0        6           0   \n",
       "1        2  2011-01-01       1   0     1   1        0        6           0   \n",
       "2        3  2011-01-01       1   0     1   2        0        6           0   \n",
       "3        4  2011-01-01       1   0     1   3        0        6           0   \n",
       "4        5  2011-01-01       1   0     1   4        0        6           0   \n",
       "\n",
       "   weathersit  temp   atemp   hum  windspeed  casual  registered  cnt  \n",
       "0           1  0.24  0.2879  0.81        0.0       3          13   16  \n",
       "1           1  0.22  0.2727  0.80        0.0       8          32   40  \n",
       "2           1  0.22  0.2727  0.80        0.0       5          27   32  \n",
       "3           1  0.24  0.2879  0.75        0.0       3          10   13  \n",
       "4           1  0.24  0.2879  0.75        0.0       0           1    1  "
      ]
     },
     "execution_count": 111,
     "metadata": {},
     "output_type": "execute_result"
    }
   ],
   "source": [
    "rides.head()"
   ]
  },
  {
   "cell_type": "markdown",
   "metadata": {},
   "source": [
    "## Checking out the data\n",
    "\n",
    "This dataset has the number of riders for each hour of each day from January 1 2011 to December 31 2012. The number of riders is split between casual and registered, summed up in the `cnt` column. You can see the first few rows of the data above.\n",
    "\n",
    "Below is a plot showing the number of bike riders over the first 10 days or so in the data set. (Some days don't have exactly 24 entries in the data set, so it's not exactly 10 days.) You can see the hourly rentals here. This data is pretty complicated! The weekends have lower over all ridership and there are spikes when people are biking to and from work during the week. Looking at the data above, we also have information about temperature, humidity, and windspeed, all of these likely affecting the number of riders. You'll be trying to capture all this with your model."
   ]
  },
  {
   "cell_type": "code",
   "execution_count": 112,
   "metadata": {},
   "outputs": [
    {
     "data": {
      "text/plain": [
       "<matplotlib.axes._subplots.AxesSubplot at 0x7fd50d68bcc0>"
      ]
     },
     "execution_count": 112,
     "metadata": {},
     "output_type": "execute_result"
    },
    {
     "data": {
      "image/png": "[encoded data removed]",
      "text/plain": [
       "<matplotlib.figure.Figure at 0x7fd50e3c59e8>"
      ]
     },
     "metadata": {
      "image/png": {
       "height": 263,
       "width": 380
      }
     },
     "output_type": "display_data"
    }
   ],
   "source": [
    "rides[:24*10].plot(x='dteday', y='cnt')"
   ]
  },
  {
   "cell_type": "markdown",
   "metadata": {},
   "source": [
    "### Dummy variables\n",
    "Here we have some categorical variables like season, weather, month. To include these in our model, we'll need to make binary dummy variables. This is simple to do with Pandas thanks to `get_dummies()`."
   ]
  },
  {
   "cell_type": "code",
   "execution_count": 113,
   "metadata": {},
   "outputs": [
    {
     "data": {
      "text/html": [
       "<div>\n",
       "<table border=\"1\" class=\"dataframe\">\n",
       "  <thead>\n",
       "    <tr style=\"text-align: right;\">\n",
       "      <th></th>\n",
       "      <th>yr</th>\n",
       "      <th>holiday</th>\n",
       "      <th>temp</th>\n",
       "      <th>hum</th>\n",
       "      <th>windspeed</th>\n",
       "      <th>casual</th>\n",
       "      <th>registered</th>\n",
       "      <th>cnt</th>\n",
       "      <th>season_1</th>\n",
       "      <th>season_2</th>\n",
       "      <th>...</th>\n",
       "      <th>hr_21</th>\n",
       "      <th>hr_22</th>\n",
       "      <th>hr_23</th>\n",
       "      <th>weekday_0</th>\n",
       "      <th>weekday_1</th>\n",
       "      <th>weekday_2</th>\n",
       "      <th>weekday_3</th>\n",
       "      <th>weekday_4</th>\n",
       "      <th>weekday_5</th>\n",
       "      <th>weekday_6</th>\n",
       "    </tr>\n",
       "  </thead>\n",
       "  <tbody>\n",
       "    <tr>\n",
       "      <th>0</th>\n",
       "      <td>0</td>\n",
       "      <td>0</td>\n",
       "      <td>0.24</td>\n",
       "      <td>0.81</td>\n",
       "      <td>0.0</td>\n",
       "      <td>3</td>\n",
       "      <td>13</td>\n",
       "      <td>16</td>\n",
       "      <td>1</td>\n",
       "      <td>0</td>\n",
       "      <td>...</td>\n",
       "      <td>0</td>\n",
       "      <td>0</td>\n",
       "      <td>0</td>\n",
       "      <td>0</td>\n",
       "      <td>0</td>\n",
       "      <td>0</td>\n",
       "      <td>0</td>\n",
       "      <td>0</td>\n",
       "      <td>0</td>\n",
       "      <td>1</td>\n",
       "    </tr>\n",
       "    <tr>\n",
       "      <th>1</th>\n",
       "      <td>0</td>\n",
       "      <td>0</td>\n",
       "      <td>0.22</td>\n",
       "      <td>0.80</td>\n",
       "      <td>0.0</td>\n",
       "      <td>8</td>\n",
       "      <td>32</td>\n",
       "      <td>40</td>\n",
       "      <td>1</td>\n",
       "      <td>0</td>\n",
       "      <td>...</td>\n",
       "      <td>0</td>\n",
       "      <td>0</td>\n",
       "      <td>0</td>\n",
       "      <td>0</td>\n",
       "      <td>0</td>\n",
       "      <td>0</td>\n",
       "      <td>0</td>\n",
       "      <td>0</td>\n",
       "      <td>0</td>\n",
       "      <td>1</td>\n",
       "    </tr>\n",
       "    <tr>\n",
       "      <th>2</th>\n",
       "      <td>0</td>\n",
       "      <td>0</td>\n",
       "      <td>0.22</td>\n",
       "      <td>0.80</td>\n",
       "      <td>0.0</td>\n",
       "      <td>5</td>\n",
       "      <td>27</td>\n",
       "      <td>32</td>\n",
       "      <td>1</td>\n",
       "      <td>0</td>\n",
       "      <td>...</td>\n",
       "      <td>0</td>\n",
       "      <td>0</td>\n",
       "      <td>0</td>\n",
       "      <td>0</td>\n",
       "      <td>0</td>\n",
       "      <td>0</td>\n",
       "      <td>0</td>\n",
       "      <td>0</td>\n",
       "      <td>0</td>\n",
       "      <td>1</td>\n",
       "    </tr>\n",
       "    <tr>\n",
       "      <th>3</th>\n",
       "      <td>0</td>\n",
       "      <td>0</td>\n",
       "      <td>0.24</td>\n",
       "      <td>0.75</td>\n",
       "      <td>0.0</td>\n",
       "      <td>3</td>\n",
       "      <td>10</td>\n",
       "      <td>13</td>\n",
       "      <td>1</td>\n",
       "      <td>0</td>\n",
       "      <td>...</td>\n",
       "      <td>0</td>\n",
       "      <td>0</td>\n",
       "      <td>0</td>\n",
       "      <td>0</td>\n",
       "      <td>0</td>\n",
       "      <td>0</td>\n",
       "      <td>0</td>\n",
       "      <td>0</td>\n",
       "      <td>0</td>\n",
       "      <td>1</td>\n",
       "    </tr>\n",
       "    <tr>\n",
       "      <th>4</th>\n",
       "      <td>0</td>\n",
       "      <td>0</td>\n",
       "      <td>0.24</td>\n",
       "      <td>0.75</td>\n",
       "      <td>0.0</td>\n",
       "      <td>0</td>\n",
       "      <td>1</td>\n",
       "      <td>1</td>\n",
       "      <td>1</td>\n",
       "      <td>0</td>\n",
       "      <td>...</td>\n",
       "      <td>0</td>\n",
       "      <td>0</td>\n",
       "      <td>0</td>\n",
       "      <td>0</td>\n",
       "      <td>0</td>\n",
       "      <td>0</td>\n",
       "      <td>0</td>\n",
       "      <td>0</td>\n",
       "      <td>0</td>\n",
       "      <td>1</td>\n",
       "    </tr>\n",
       "  </tbody>\n",
       "</table>\n",
       "<p>5 rows × 59 columns</p>\n",
       "</div>"
      ],
      "text/plain": [
       "   yr  holiday  temp   hum  windspeed  casual  registered  cnt  season_1  \\\n",
       "0   0        0  0.24  0.81        0.0       3          13   16         1   \n",
       "1   0        0  0.22  0.80        0.0       8          32   40         1   \n",
       "2   0        0  0.22  0.80        0.0       5          27   32         1   \n",
       "3   0        0  0.24  0.75        0.0       3          10   13         1   \n",
       "4   0        0  0.24  0.75        0.0       0           1    1         1   \n",
       "\n",
       "   season_2    ...      hr_21  hr_22  hr_23  weekday_0  weekday_1  weekday_2  \\\n",
       "0         0    ...          0      0      0          0          0          0   \n",
       "1         0    ...          0      0      0          0          0          0   \n",
       "2         0    ...          0      0      0          0          0          0   \n",
       "3         0    ...          0      0      0          0          0          0   \n",
       "4         0    ...          0      0      0          0          0          0   \n",
       "\n",
       "   weekday_3  weekday_4  weekday_5  weekday_6  \n",
       "0          0          0          0          1  \n",
       "1          0          0          0          1  \n",
       "2          0          0          0          1  \n",
       "3          0          0          0          1  \n",
       "4          0          0          0          1  \n",
       "\n",
       "[5 rows x 59 columns]"
      ]
     },
     "execution_count": 113,
     "metadata": {},
     "output_type": "execute_result"
    }
   ],
   "source": [
    "dummy_fields = ['season', 'weathersit', 'mnth', 'hr', 'weekday']\n",
    "for each in dummy_fields:\n",
    "    dummies = pd.get_dummies(rides[each], prefix=each, drop_first=False)\n",
    "    rides = pd.concat([rides, dummies], axis=1)\n",
    "\n",
    "fields_to_drop = ['instant', 'dteday', 'season', 'weathersit', \n",
    "                  'weekday', 'atemp', 'mnth', 'workingday', 'hr']\n",
    "data = rides.drop(fields_to_drop, axis=1)\n",
    "data.head()"
   ]
  },
  {
   "cell_type": "markdown",
   "metadata": {},
   "source": [
    "### Scaling target variables\n",
    "To make training the network easier, we'll standardize each of the continuous variables. That is, we'll shift and scale the variables such that they have zero mean and a standard deviation of 1.\n",
    "\n",
    "The scaling factors are saved so we can go backwards when we use the network for predictions."
   ]
  },
  {
   "cell_type": "code",
   "execution_count": 114,
   "metadata": {
    "collapsed": true
   },
   "outputs": [],
   "source": [
    "quant_features = ['casual', 'registered', 'cnt', 'temp', 'hum', 'windspeed']\n",
    "# Store scalings in a dictionary so we can convert back later\n",
    "scaled_features = {}\n",
    "for each in quant_features:\n",
    "    mean, std = data[each].mean(), data[each].std()\n",
    "    scaled_features[each] = [mean, std]\n",
    "    data.loc[:, each] = (data[each] - mean)/std"
   ]
  },
  {
   "cell_type": "markdown",
   "metadata": {},
   "source": [
    "### Splitting the data into training, testing, and validation sets\n",
    "\n",
    "We'll save the data for the last approximately 21 days to use as a test set after we've trained the network. We'll use this set to make predictions and compare them with the actual number of riders."
   ]
  },
  {
   "cell_type": "code",
   "execution_count": 115,
   "metadata": {
    "collapsed": true
   },
   "outputs": [],
   "source": [
    "# Save data for approximately the last 21 days \n",
    "test_data = data[-21*24:]\n",
    "\n",
    "# Now remove the test data from the data set \n",
    "data = data[:-21*24]\n",
    "\n",
    "# Separate the data into features and targets\n",
    "target_fields = ['cnt', 'casual', 'registered']\n",
    "features, targets = data.drop(target_fields, axis=1), data[target_fields]\n",
    "test_features, test_targets = test_data.drop(target_fields, axis=1), test_data[target_fields]"
   ]
  },
  {
   "cell_type": "markdown",
   "metadata": {},
   "source": [
    "We'll split the data into two sets, one for training and one for validating as the network is being trained. Since this is time series data, we'll train on historical data, then try to predict on future data (the validation set)."
   ]
  },
  {
   "cell_type": "code",
   "execution_count": 116,
   "metadata": {
    "collapsed": true
   },
   "outputs": [],
   "source": [
    "# Hold out the last 60 days or so of the remaining data as a validation set\n",
    "train_features, train_targets = features[:-60*24], targets[:-60*24]\n",
    "val_features, val_targets = features[-60*24:], targets[-60*24:]"
   ]
  },
  {
   "cell_type": "markdown",
   "metadata": {},
   "source": [
    "## Time to build the network\n",
    "\n",
    "Below you'll build your network. We've built out the structure and the backwards pass. You'll implement the forward pass through the network. You'll also set the hyperparameters: the learning rate, the number of hidden units, and the number of training passes.\n",
    "\n",
    "<img src=\"assets/neural_network.png\" width=300px>\n",
    "\n",
    "The network has two layers, a hidden layer and an output layer. The hidden layer will use the sigmoid function for activations. The output layer has only one node and is used for the regression, the output of the node is the same as the input of the node. That is, the activation function is $f(x)=x$. A function that takes the input signal and generates an output signal, but takes into account the threshold, is called an activation function. We work through each layer of our network calculating the outputs for each neuron. All of the outputs from one layer become inputs to the neurons on the next layer. This process is called *forward propagation*.\n",
    "\n",
    "We use the weights to propagate signals forward from the input to the output layers in a neural network. We use the weights to also propagate error backwards from the output back into the network to update our weights. This is called *backpropagation*.\n",
    "\n",
    "> **Hint:** You'll need the derivative of the output activation function ($f(x) = x$) for the backpropagation implementation. If you aren't familiar with calculus, this function is equivalent to the equation $y = x$. What is the slope of that equation? That is the derivative of $f(x)$.\n",
    "\n",
    "Below, you have these tasks:\n",
    "1. Implement the sigmoid function to use as the activation function. Set `self.activation_function` in `__init__` to your sigmoid function.\n",
    "2. Implement the forward pass in the `train` method.\n",
    "3. Implement the backpropagation algorithm in the `train` method, including calculating the output error.\n",
    "4. Implement the forward pass in the `run` method.\n",
    "  "
   ]
  },
  {
   "cell_type": "code",
   "execution_count": 117,
   "metadata": {
    "collapsed": true
   },
   "outputs": [],
   "source": [
    "class NeuralNetwork(object):\n",
    "    def __init__(self, input_nodes, hidden_nodes, output_nodes, learning_rate):\n",
    "        # Set number of nodes in input, hidden and output layers.\n",
    "        self.input_nodes = input_nodes\n",
    "        self.hidden_nodes = hidden_nodes\n",
    "        self.output_nodes = output_nodes\n",
    "\n",
    "        # Initialize weights\n",
    "        self.weights_input_to_hidden = np.random.normal(0.0, self.input_nodes**-0.5, \n",
    "                                       (self.input_nodes, self.hidden_nodes))\n",
    "\n",
    "        self.weights_hidden_to_output = np.random.normal(0.0, self.hidden_nodes**-0.5, \n",
    "                                       (self.hidden_nodes, self.output_nodes))\n",
    "        self.lr = learning_rate\n",
    "        \n",
    "        #### TODO: Set self.activation_function to your implemented sigmoid function ####\n",
    "        #\n",
    "        # Note: in Python, you can define a function with a lambda expression,\n",
    "        # as shown below.\n",
    "        self.activation_function = lambda x : 1/(1 + np.exp(-x))  # Replace 0 with your sigmoid calculation.\n",
    "        \n",
    "        ### If the lambda code above is not something you're familiar with,\n",
    "        # You can uncomment out the following three lines and put your \n",
    "        # implementation there instead.\n",
    "        #\n",
    "        #def sigmoid(x):\n",
    "        #    return 0  # Replace 0 with your sigmoid calculation here\n",
    "        #self.activation_function = sigmoid\n",
    "                    \n",
    "    \n",
    "    def train(self, features, targets):\n",
    "        ''' Train the network on batch of features and targets. \n",
    "        \n",
    "            Arguments\n",
    "            ---------\n",
    "            \n",
    "            features: 2D array, each row is one data record, each column is a feature\n",
    "            targets: 1D array of target values\n",
    "        \n",
    "        '''\n",
    "        n_records = features.shape[0]\n",
    "        delta_weights_i_h = np.zeros(self.weights_input_to_hidden.shape)\n",
    "        delta_weights_h_o = np.zeros(self.weights_hidden_to_output.shape)\n",
    "        for X, y in zip(features, targets):\n",
    "            #### Implement the forward pass here ####\n",
    "            ### Forward pass ###\n",
    "            # TODO: Hidden layer - Replace these values with your calculations.\n",
    "            hidden_inputs = np.dot(X, self.weights_input_to_hidden) # signals into hidden layer\n",
    "            hidden_outputs = self.activation_function(hidden_inputs) # signals from hidden layer\n",
    "\n",
    "            # TODO: Output layer - Replace these values with your calculations.\n",
    "            final_inputs = np.dot(hidden_outputs, self.weights_hidden_to_output) # signals into final output layer\n",
    "            final_outputs = final_inputs # signals from final output layer\n",
    "            \n",
    "            #### Implement the backward pass here ####\n",
    "            ### Backward pass ###\n",
    "\n",
    "            # TODO: Output error - Replace this value with your calculations.\n",
    "            error = y - final_outputs # Output layer error is the difference between desired target and actual output.\n",
    "                        \n",
    "            # TODO: Backpropagated error terms - Replace these values with your calculations.\n",
    "            output_error_term = error\n",
    "            hidden_error = np.dot(self.weights_hidden_to_output, output_error_term)\n",
    "            hidden_error_term = hidden_error * hidden_outputs * (1 - hidden_outputs) # can only do this when using sigmoid\n",
    "\n",
    "            # Weight step (input to hidden)\n",
    "            delta_weights_i_h += hidden_error_term * X[:, None]\n",
    "            # Weight step (hidden to output)\n",
    "            delta_weights_h_o += output_error_term * hidden_outputs[:, None]\n",
    "\n",
    "        # TODO: Update the weights - Replace these values with your calculations.\n",
    "        self.weights_hidden_to_output += self.lr * delta_weights_h_o / n_records # update hidden-to-output weights with gradient descent step\n",
    "        self.weights_input_to_hidden += self.lr * delta_weights_i_h / n_records # update input-to-hidden weights with gradient descent step\n",
    " \n",
    "    def run(self, features):\n",
    "        ''' Run a forward pass through the network with input features \n",
    "        \n",
    "            Arguments\n",
    "            ---------\n",
    "            features: 1D array of feature values\n",
    "        '''\n",
    "        #++++\n",
    "        #print(features)\n",
    "        #print(self.weights_input_to_hidden)\n",
    "        #print(self.weights_hidden_to_output)\n",
    "        \n",
    "        #### Implement the forward pass here ####\n",
    "        # TODO: Hidden layer - replace these values with the appropriate calculations.\n",
    "        hidden_inputs = np.dot(features, self.weights_input_to_hidden) # signals into hidden layer\n",
    "        hidden_outputs = self.activation_function(hidden_inputs) # signals from hidden layer\n",
    "        \n",
    "        # TODO: Output layer - Replace these values with the appropriate calculations.\n",
    "        final_inputs = np.dot(hidden_outputs, self.weights_hidden_to_output) # signals into final output layer\n",
    "        final_outputs = final_inputs # signals from final output layer \n",
    "        \n",
    "        return final_outputs"
   ]
  },
  {
   "cell_type": "code",
   "execution_count": 118,
   "metadata": {
    "collapsed": true
   },
   "outputs": [],
   "source": [
    "def MSE(y, Y):\n",
    "    return np.mean((y-Y)**2)"
   ]
  },
  {
   "cell_type": "markdown",
   "metadata": {},
   "source": [
    "## Unit tests\n",
    "\n",
    "Run these unit tests to check the correctness of your network implementation. This will help you be sure your network was implemented correctly befor you starting trying to train it. These tests must all be successful to pass the project."
   ]
  },
  {
   "cell_type": "code",
   "execution_count": 119,
   "metadata": {},
   "outputs": [
    {
     "name": "stderr",
     "output_type": "stream",
     "text": [
      ".....\n",
      "----------------------------------------------------------------------\n",
      "Ran 5 tests in 0.008s\n",
      "\n",
      "OK\n"
     ]
    },
    {
     "data": {
      "text/plain": [
       "<unittest.runner.TextTestResult run=5 errors=0 failures=0>"
      ]
     },
     "execution_count": 119,
     "metadata": {},
     "output_type": "execute_result"
    }
   ],
   "source": [
    "import unittest\n",
    "\n",
    "inputs = np.array([[0.5, -0.2, 0.1]])\n",
    "targets = np.array([[0.4]])\n",
    "test_w_i_h = np.array([[0.1, -0.2],\n",
    "                       [0.4, 0.5],\n",
    "                       [-0.3, 0.2]])\n",
    "test_w_h_o = np.array([[0.3],\n",
    "                       [-0.1]])\n",
    "\n",
    "class TestMethods(unittest.TestCase):\n",
    "    \n",
    "    ##########\n",
    "    # Unit tests for data loading\n",
    "    ##########\n",
    "    \n",
    "    def test_data_path(self):\n",
    "        # Test that file path to dataset has been unaltered\n",
    "        self.assertTrue(data_path.lower() == 'bike-sharing-dataset/hour.csv')\n",
    "        \n",
    "    def test_data_loaded(self):\n",
    "        # Test that data frame loaded\n",
    "        self.assertTrue(isinstance(rides, pd.DataFrame))\n",
    "    \n",
    "    ##########\n",
    "    # Unit tests for network functionality\n",
    "    ##########\n",
    "\n",
    "    def test_activation(self):\n",
    "        network = NeuralNetwork(3, 2, 1, 0.5)\n",
    "        # Test that the activation function is a sigmoid\n",
    "        self.assertTrue(np.all(network.activation_function(0.5) == 1/(1+np.exp(-0.5))))\n",
    "\n",
    "    def test_train(self):\n",
    "        # Test that weights are updated correctly on training\n",
    "        network = NeuralNetwork(3, 2, 1, 0.5)\n",
    "        network.weights_input_to_hidden = test_w_i_h.copy()\n",
    "        network.weights_hidden_to_output = test_w_h_o.copy()\n",
    "        \n",
    "        network.train(inputs, targets)\n",
    "        self.assertTrue(np.allclose(network.weights_hidden_to_output, \n",
    "                                    np.array([[ 0.37275328], \n",
    "                                              [-0.03172939]])))\n",
    "        self.assertTrue(np.allclose(network.weights_input_to_hidden,\n",
    "                                    np.array([[ 0.10562014, -0.20185996], \n",
    "                                              [0.39775194, 0.50074398], \n",
    "                                              [-0.29887597, 0.19962801]])))\n",
    "\n",
    "    def test_run(self):\n",
    "        # Test correctness of run method\n",
    "        network = NeuralNetwork(3, 2, 1, 0.5)\n",
    "        network.weights_input_to_hidden = test_w_i_h.copy()\n",
    "        network.weights_hidden_to_output = test_w_h_o.copy()\n",
    "\n",
    "        self.assertTrue(np.allclose(network.run(inputs), 0.09998924))\n",
    "\n",
    "suite = unittest.TestLoader().loadTestsFromModule(TestMethods())\n",
    "unittest.TextTestRunner().run(suite)"
   ]
  },
  {
   "cell_type": "markdown",
   "metadata": {},
   "source": [
    "## Training the network\n",
    "\n",
    "Here you'll set the hyperparameters for the network. The strategy here is to find hyperparameters such that the error on the training set is low, but you're not overfitting to the data. If you train the network too long or have too many hidden nodes, it can become overly specific to the training set and will fail to generalize to the validation set. That is, the loss on the validation set will start increasing as the training set loss drops.\n",
    "\n",
    "You'll also be using a method know as Stochastic Gradient Descent (SGD) to train the network. The idea is that for each training pass, you grab a random sample of the data instead of using the whole data set. You use many more training passes than with normal gradient descent, but each pass is much faster. This ends up training the network more efficiently. You'll learn more about SGD later.\n",
    "\n",
    "### Choose the number of iterations\n",
    "This is the number of batches of samples from the training data we'll use to train the network. The more iterations you use, the better the model will fit the data. However, if you use too many iterations, then the model with not generalize well to other data, this is called overfitting. You want to find a number here where the network has a low training loss, and the validation loss is at a minimum. As you start overfitting, you'll see the training loss continue to decrease while the validation loss starts to increase.\n",
    "\n",
    "### Choose the learning rate\n",
    "This scales the size of weight updates. If this is too big, the weights tend to explode and the network fails to fit the data. A good choice to start at is 0.1. If the network has problems fitting the data, try reducing the learning rate. Note that the lower the learning rate, the smaller the steps are in the weight updates and the longer it takes for the neural network to converge.\n",
    "\n",
    "### Choose the number of hidden nodes\n",
    "The more hidden nodes you have, the more accurate predictions the model will make. Try a few different numbers and see how it affects the performance. You can look at the losses dictionary for a metric of the network performance. If the number of hidden units is too low, then the model won't have enough space to learn and if it is too high there are too many options for the direction that the learning can take. The trick here is to find the right balance in number of hidden units you choose."
   ]
  },
  {
   "cell_type": "code",
   "execution_count": 120,
   "metadata": {},
   "outputs": [
    {
     "name": "stdout",
     "output_type": "stream",
     "text": [
      "Progress: 100.0% ... Training loss: 0.053 ... Validation loss: 0.146"
     ]
    }
   ],
   "source": [
    "import sys\n",
    "\n",
    "### Set the hyperparameters here ###\n",
    "iterations = 40000\n",
    "learning_rate = 0.1\n",
    "hidden_nodes = 16\n",
    "output_nodes = 1\n",
    "\n",
    "N_i = train_features.shape[1]\n",
    "network = NeuralNetwork(N_i, hidden_nodes, output_nodes, learning_rate)\n",
    "\n",
    "losses = {'train':[], 'validation':[]}\n",
    "for ii in range(iterations):\n",
    "    # Go through a random batch of 128 records from the training data set\n",
    "    batch = np.random.choice(train_features.index, size=128)\n",
    "    X, y = train_features.ix[batch].values, train_targets.ix[batch]['cnt']\n",
    "                             \n",
    "    network.train(X, y)\n",
    "    \n",
    "    # Printing out the training progress\n",
    "    train_loss = MSE(network.run(train_features).T, train_targets['cnt'].values)\n",
    "    val_loss = MSE(network.run(val_features).T, val_targets['cnt'].values)\n",
    "    sys.stdout.write(\"\\rProgress: {:2.1f}\".format(100 * ii/float(iterations)) \\\n",
    "                     + \"% ... Training loss: \" + str(train_loss)[:5] \\\n",
    "                     + \" ... Validation loss: \" + str(val_loss)[:5])\n",
    "    sys.stdout.flush()\n",
    "    \n",
    "    losses['train'].append(train_loss)\n",
    "    losses['validation'].append(val_loss)"
   ]
  },
  {
   "cell_type": "code",
   "execution_count": 146,
   "metadata": {
    "collapsed": true
   },
   "outputs": [],
   "source": [
    "import sys\n",
    "\n",
    "\n",
    "def hyper_run(iterations, learning_rate, hidden_nodes, output_nodes):\n",
    "\n",
    "    np.random.seed(0)  # this should keep consistent results\n",
    "    \n",
    "    N_i = train_features.shape[1]\n",
    "    network = NeuralNetwork(N_i, hidden_nodes, output_nodes, learning_rate)\n",
    "\n",
    "    losses = {'train':[], 'validation':[]}\n",
    "    for ii in range(iterations):\n",
    "       # Go through a random batch of 128 records from the training data set\n",
    "        batch = np.random.choice(train_features.index, size=128)\n",
    "        X, y = train_features.ix[batch].values, train_targets.ix[batch]['cnt']\n",
    "                            \n",
    "        network.train(X, y)\n",
    "        \n",
    "       \n",
    "        #if (ii % 20) == 0:   # uncomment to calc the loss every 20 iterations.  Saves much time\n",
    "        if True:    # uncomment to calc loss every iteration\n",
    "    \n",
    "            # Printing out the training progress\n",
    "            train_loss = MSE(network.run(train_features).T, train_targets['cnt'].values)\n",
    "            val_loss = MSE(network.run(val_features).T, val_targets['cnt'].values)\n",
    "            sys.stdout.write(\"\\rProgress: {:2.1f}\".format(100 * ii/float(iterations)) \\\n",
    "                     + \"% ... Training loss: \" + str(train_loss)[:5] \\\n",
    "                     + \" ... Validation loss: \" + str(val_loss)[:5])\n",
    "            sys.stdout.flush()\n",
    "    \n",
    "            losses['train'].append(train_loss)\n",
    "            losses['validation'].append(val_loss)\n",
    "        \n",
    "\n",
    "    #plt.plot(losses['train'], label='Training loss')\n",
    "    #plt.plot(losses['validation'], label='Validation loss')\n",
    "    #plt.legend()\n",
    "    #_ = plt.ylim()\n",
    "    \n",
    "    print()\n",
    "    print('** iteration: %d, lr: %.2f, hidden node: %d  ------------\\t\\t train_loss: %.3f, validation loss: %.3f' % (iterations, learning_rate, hidden_nodes, losses['train'][-1], losses['validation'][-1]))\n",
    "    \n",
    "def wrapper(func, *args, **kwargs):\n",
    "    def wrapped():\n",
    "        return func(*args, **kwargs)\n",
    "    return wrapped"
   ]
  },
  {
   "cell_type": "code",
   "execution_count": null,
   "metadata": {},
   "outputs": [
    {
     "name": "stdout",
     "output_type": "stream",
     "text": [
      "Progress: 100.0% ... Training loss: 0.142 ... Validation loss: 0.274\n",
      "** iteration: 5000, lr: 0.20, hidden node: 4  ------------\t\t train_loss: 0.143, validation loss: 0.274\n",
      "Progress: 100.0% ... Training loss: 0.136 ... Validation loss: 0.272\n",
      "** iteration: 5000, lr: 0.20, hidden node: 5  ------------\t\t train_loss: 0.137, validation loss: 0.272\n",
      "Progress: 100.0% ... Training loss: 0.166 ... Validation loss: 0.311\n",
      "** iteration: 5000, lr: 0.20, hidden node: 6  ------------\t\t train_loss: 0.166, validation loss: 0.311\n",
      "Progress: 100.0% ... Training loss: 0.126 ... Validation loss: 0.250\n",
      "** iteration: 5000, lr: 0.20, hidden node: 7  ------------\t\t train_loss: 0.127, validation loss: 0.251\n",
      "Progress: 100.0% ... Training loss: 0.119 ... Validation loss: 0.242\n",
      "** iteration: 5000, lr: 0.20, hidden node: 8  ------------\t\t train_loss: 0.119, validation loss: 0.242\n",
      "Progress: 100.0% ... Training loss: 0.153 ... Validation loss: 0.307\n",
      "** iteration: 5000, lr: 0.20, hidden node: 9  ------------\t\t train_loss: 0.153, validation loss: 0.308\n",
      "Progress: 100.0% ... Training loss: 0.125 ... Validation loss: 0.226\n",
      "** iteration: 5000, lr: 0.20, hidden node: 10  ------------\t\t train_loss: 0.126, validation loss: 0.226\n",
      "Progress: 100.0% ... Training loss: 0.149 ... Validation loss: 0.305\n",
      "** iteration: 5000, lr: 0.20, hidden node: 11  ------------\t\t train_loss: 0.150, validation loss: 0.306\n",
      "Progress: 100.0% ... Training loss: 0.121 ... Validation loss: 0.246\n",
      "** iteration: 5000, lr: 0.20, hidden node: 12  ------------\t\t train_loss: 0.121, validation loss: 0.247\n",
      "Progress: 100.0% ... Training loss: 0.098 ... Validation loss: 0.206\n",
      "** iteration: 5000, lr: 0.30, hidden node: 4  ------------\t\t train_loss: 0.099, validation loss: 0.206\n",
      "Progress: 100.0% ... Training loss: 0.077 ... Validation loss: 0.180\n",
      "** iteration: 5000, lr: 0.30, hidden node: 5  ------------\t\t train_loss: 0.077, validation loss: 0.181\n",
      "Progress: 100.0% ... Training loss: 0.080 ... Validation loss: 0.180\n",
      "** iteration: 5000, lr: 0.30, hidden node: 6  ------------\t\t train_loss: 0.081, validation loss: 0.181\n",
      "Progress: 100.0% ... Training loss: 0.072 ... Validation loss: 0.169\n",
      "** iteration: 5000, lr: 0.30, hidden node: 7  ------------\t\t train_loss: 0.073, validation loss: 0.169\n",
      "Progress: 100.0% ... Training loss: 0.076 ... Validation loss: 0.169\n",
      "** iteration: 5000, lr: 0.30, hidden node: 8  ------------\t\t train_loss: 0.076, validation loss: 0.169\n",
      "Progress: 100.0% ... Training loss: 0.091 ... Validation loss: 0.210\n",
      "** iteration: 5000, lr: 0.30, hidden node: 9  ------------\t\t train_loss: 0.092, validation loss: 0.210\n",
      "Progress: 100.0% ... Training loss: 0.091 ... Validation loss: 0.180\n",
      "** iteration: 5000, lr: 0.30, hidden node: 10  ------------\t\t train_loss: 0.091, validation loss: 0.181\n",
      "Progress: 100.0% ... Training loss: 0.108 ... Validation loss: 0.221\n",
      "** iteration: 5000, lr: 0.30, hidden node: 11  ------------\t\t train_loss: 0.108, validation loss: 0.222\n",
      "Progress: 100.0% ... Training loss: 0.077 ... Validation loss: 0.180\n",
      "** iteration: 5000, lr: 0.30, hidden node: 12  ------------\t\t train_loss: 0.078, validation loss: 0.181\n",
      "Progress: 100.0% ... Training loss: 0.089 ... Validation loss: 0.211\n",
      "** iteration: 5000, lr: 0.40, hidden node: 4  ------------\t\t train_loss: 0.090, validation loss: 0.211\n",
      "Progress: 100.0% ... Training loss: 0.066 ... Validation loss: 0.169\n",
      "** iteration: 5000, lr: 0.40, hidden node: 5  ------------\t\t train_loss: 0.067, validation loss: 0.170\n",
      "Progress: 100.0% ... Training loss: 0.066 ... Validation loss: 0.156\n",
      "** iteration: 5000, lr: 0.40, hidden node: 6  ------------\t\t train_loss: 0.067, validation loss: 0.157\n",
      "Progress: 100.0% ... Training loss: 0.063 ... Validation loss: 0.159\n",
      "** iteration: 5000, lr: 0.40, hidden node: 7  ------------\t\t train_loss: 0.063, validation loss: 0.159\n",
      "Progress: 100.0% ... Training loss: 0.070 ... Validation loss: 0.158\n",
      "** iteration: 5000, lr: 0.40, hidden node: 8  ------------\t\t train_loss: 0.070, validation loss: 0.158\n",
      "Progress: 100.0% ... Training loss: 0.078 ... Validation loss: 0.184\n",
      "** iteration: 5000, lr: 0.40, hidden node: 9  ------------\t\t train_loss: 0.079, validation loss: 0.185\n",
      "Progress: 100.0% ... Training loss: 0.080 ... Validation loss: 0.171\n",
      "** iteration: 5000, lr: 0.40, hidden node: 10  ------------\t\t train_loss: 0.080, validation loss: 0.172\n",
      "Progress: 100.0% ... Training loss: 0.083 ... Validation loss: 0.175\n",
      "** iteration: 5000, lr: 0.40, hidden node: 11  ------------\t\t train_loss: 0.084, validation loss: 0.176\n",
      "Progress: 100.0% ... Training loss: 0.073 ... Validation loss: 0.188\n",
      "** iteration: 5000, lr: 0.40, hidden node: 12  ------------\t\t train_loss: 0.073, validation loss: 0.189\n",
      "Progress: 100.0% ... Training loss: 0.112 ... Validation loss: 0.279\n",
      "** iteration: 5000, lr: 0.50, hidden node: 4  ------------\t\t train_loss: 0.112, validation loss: 0.279\n",
      "Progress: 100.0% ... Training loss: 0.062 ... Validation loss: 0.169\n",
      "** iteration: 5000, lr: 0.50, hidden node: 5  ------------\t\t train_loss: 0.062, validation loss: 0.170\n",
      "Progress: 100.0% ... Training loss: 0.062 ... Validation loss: 0.148\n",
      "** iteration: 5000, lr: 0.50, hidden node: 6  ------------\t\t train_loss: 0.063, validation loss: 0.149\n",
      "Progress: 100.0% ... Training loss: 0.061 ... Validation loss: 0.161\n",
      "** iteration: 5000, lr: 0.50, hidden node: 7  ------------\t\t train_loss: 0.061, validation loss: 0.162\n",
      "Progress: 100.0% ... Training loss: 0.071 ... Validation loss: 0.156\n",
      "** iteration: 5000, lr: 0.50, hidden node: 8  ------------\t\t train_loss: 0.071, validation loss: 0.156\n",
      "Progress: 100.0% ... Training loss: 0.073 ... Validation loss: 0.171\n",
      "** iteration: 5000, lr: 0.50, hidden node: 9  ------------\t\t train_loss: 0.074, validation loss: 0.171\n",
      "Progress: 100.0% ... Training loss: 0.070 ... Validation loss: 0.176\n",
      "** iteration: 5000, lr: 0.50, hidden node: 10  ------------\t\t train_loss: 0.071, validation loss: 0.177\n",
      "Progress: 100.0% ... Training loss: 0.069 ... Validation loss: 0.141\n",
      "** iteration: 5000, lr: 0.50, hidden node: 11  ------------\t\t train_loss: 0.070, validation loss: 0.141\n",
      "Progress: 100.0% ... Training loss: 0.072 ... Validation loss: 0.195\n",
      "** iteration: 5000, lr: 0.50, hidden node: 12  ------------\t\t train_loss: 0.073, validation loss: 0.195\n",
      "Progress: 100.0% ... Training loss: 0.116 ... Validation loss: 0.220\n",
      "** iteration: 6000, lr: 0.20, hidden node: 4  ------------\t\t train_loss: 0.117, validation loss: 0.221\n",
      "Progress: 100.0% ... Training loss: 0.100 ... Validation loss: 0.199\n",
      "** iteration: 6000, lr: 0.20, hidden node: 5  ------------\t\t train_loss: 0.101, validation loss: 0.199\n",
      "Progress: 100.0% ... Training loss: 0.122 ... Validation loss: 0.238\n",
      "** iteration: 6000, lr: 0.20, hidden node: 6  ------------\t\t train_loss: 0.122, validation loss: 0.239\n",
      "Progress: 100.0% ... Training loss: 0.091 ... Validation loss: 0.190\n",
      "** iteration: 6000, lr: 0.20, hidden node: 7  ------------\t\t train_loss: 0.091, validation loss: 0.190\n",
      "Progress: 100.0% ... Training loss: 0.091 ... Validation loss: 0.190\n",
      "** iteration: 6000, lr: 0.20, hidden node: 8  ------------\t\t train_loss: 0.091, validation loss: 0.190\n",
      "Progress: 100.0% ... Training loss: 0.117 ... Validation loss: 0.249\n",
      "** iteration: 6000, lr: 0.20, hidden node: 9  ------------\t\t train_loss: 0.117, validation loss: 0.249\n",
      "Progress: 100.0% ... Training loss: 0.106 ... Validation loss: 0.194\n",
      "** iteration: 6000, lr: 0.20, hidden node: 10  ------------\t\t train_loss: 0.106, validation loss: 0.195\n",
      "Progress: 100.0% ... Training loss: 0.124 ... Validation loss: 0.254\n",
      "** iteration: 6000, lr: 0.20, hidden node: 11  ------------\t\t train_loss: 0.125, validation loss: 0.255\n",
      "Progress: 100.0% ... Training loss: 0.094 ... Validation loss: 0.202\n",
      "** iteration: 6000, lr: 0.20, hidden node: 12  ------------\t\t train_loss: 0.095, validation loss: 0.202\n",
      "Progress: 100.0% ... Training loss: 0.087 ... Validation loss: 0.168\n",
      "** iteration: 6000, lr: 0.30, hidden node: 4  ------------\t\t train_loss: 0.088, validation loss: 0.169\n",
      "Progress: 100.0% ... Training loss: 0.068 ... Validation loss: 0.152\n",
      "** iteration: 6000, lr: 0.30, hidden node: 5  ------------\t\t train_loss: 0.068, validation loss: 0.153\n",
      "Progress: 100.0% ... Training loss: 0.071 ... Validation loss: 0.158\n",
      "** iteration: 6000, lr: 0.30, hidden node: 6  ------------\t\t train_loss: 0.071, validation loss: 0.159\n"
     ]
    },
    {
     "name": "stdout",
     "output_type": "stream",
     "text": [
      "Progress: 100.0% ... Training loss: 0.065 ... Validation loss: 0.152\n",
      "** iteration: 6000, lr: 0.30, hidden node: 7  ------------\t\t train_loss: 0.065, validation loss: 0.153\n",
      "Progress: 100.0% ... Training loss: 0.070 ... Validation loss: 0.158\n",
      "** iteration: 6000, lr: 0.30, hidden node: 8  ------------\t\t train_loss: 0.070, validation loss: 0.158\n",
      "Progress: 100.0% ... Training loss: 0.080 ... Validation loss: 0.189\n",
      "** iteration: 6000, lr: 0.30, hidden node: 9  ------------\t\t train_loss: 0.080, validation loss: 0.189\n",
      "Progress: 100.0% ... Training loss: 0.086 ... Validation loss: 0.180\n",
      "** iteration: 6000, lr: 0.30, hidden node: 10  ------------\t\t train_loss: 0.086, validation loss: 0.180\n",
      "Progress: 100.0% ... Training loss: 0.089 ... Validation loss: 0.181\n",
      "** iteration: 6000, lr: 0.30, hidden node: 11  ------------\t\t train_loss: 0.090, validation loss: 0.181\n",
      "Progress: 100.0% ... Training loss: 0.071 ... Validation loss: 0.179\n",
      "** iteration: 6000, lr: 0.30, hidden node: 12  ------------\t\t train_loss: 0.071, validation loss: 0.180\n",
      "Progress: 100.0% ... Training loss: 0.080 ... Validation loss: 0.160\n",
      "** iteration: 6000, lr: 0.40, hidden node: 4  ------------\t\t train_loss: 0.080, validation loss: 0.160\n",
      "Progress: 100.0% ... Training loss: 0.061 ... Validation loss: 0.146\n",
      "** iteration: 6000, lr: 0.40, hidden node: 5  ------------\t\t train_loss: 0.062, validation loss: 0.146\n",
      "Progress: 100.0% ... Training loss: 0.064 ... Validation loss: 0.153\n",
      "** iteration: 6000, lr: 0.40, hidden node: 6  ------------\t\t train_loss: 0.065, validation loss: 0.153\n",
      "Progress: 100.0% ... Training loss: 0.059 ... Validation loss: 0.144\n",
      "** iteration: 6000, lr: 0.40, hidden node: 7  ------------\t\t train_loss: 0.060, validation loss: 0.145\n",
      "Progress: 100.0% ... Training loss: 0.074 ... Validation loss: 0.163\n",
      "** iteration: 6000, lr: 0.40, hidden node: 8  ------------\t\t train_loss: 0.074, validation loss: 0.163\n",
      "Progress: 100.0% ... Training loss: 0.071 ... Validation loss: 0.173\n",
      "** iteration: 6000, lr: 0.40, hidden node: 9  ------------\t\t train_loss: 0.072, validation loss: 0.174\n",
      "Progress: 100.0% ... Training loss: 0.081 ... Validation loss: 0.195\n",
      "** iteration: 6000, lr: 0.40, hidden node: 10  ------------\t\t train_loss: 0.081, validation loss: 0.196\n",
      "Progress: 100.0% ... Training loss: 0.068 ... Validation loss: 0.145\n",
      "** iteration: 6000, lr: 0.40, hidden node: 11  ------------\t\t train_loss: 0.069, validation loss: 0.146\n",
      "Progress: 100.0% ... Training loss: 0.068 ... Validation loss: 0.186\n",
      "** iteration: 6000, lr: 0.40, hidden node: 12  ------------\t\t train_loss: 0.069, validation loss: 0.186\n",
      "Progress: 100.0% ... Training loss: 0.077 ... Validation loss: 0.161\n",
      "** iteration: 6000, lr: 0.50, hidden node: 4  ------------\t\t train_loss: 0.077, validation loss: 0.161\n",
      "Progress: 100.0% ... Training loss: 0.059 ... Validation loss: 0.148\n",
      "** iteration: 6000, lr: 0.50, hidden node: 5  ------------\t\t train_loss: 0.059, validation loss: 0.148\n",
      "Progress: 100.0% ... Training loss: 0.062 ... Validation loss: 0.153\n",
      "** iteration: 6000, lr: 0.50, hidden node: 6  ------------\t\t train_loss: 0.063, validation loss: 0.154\n",
      "Progress: 100.0% ... Training loss: 0.059 ... Validation loss: 0.149\n",
      "** iteration: 6000, lr: 0.50, hidden node: 7  ------------\t\t train_loss: 0.059, validation loss: 0.149\n",
      "Progress: 100.0% ... Training loss: 0.063 ... Validation loss: 0.144\n",
      "** iteration: 6000, lr: 0.50, hidden node: 8  ------------\t\t train_loss: 0.063, validation loss: 0.144\n",
      "Progress: 100.0% ... Training loss: 0.067 ... Validation loss: 0.172\n",
      "** iteration: 6000, lr: 0.50, hidden node: 9  ------------\t\t train_loss: 0.067, validation loss: 0.173\n",
      "Progress: 100.0% ... Training loss: 0.070 ... Validation loss: 0.200\n",
      "** iteration: 6000, lr: 0.50, hidden node: 10  ------------\t\t train_loss: 0.071, validation loss: 0.200\n",
      "Progress: 100.0% ... Training loss: 0.063 ... Validation loss: 0.130\n",
      "** iteration: 6000, lr: 0.50, hidden node: 11  ------------\t\t train_loss: 0.063, validation loss: 0.130\n",
      "Progress: 100.0% ... Training loss: 0.065 ... Validation loss: 0.193\n",
      "** iteration: 6000, lr: 0.50, hidden node: 12  ------------\t\t train_loss: 0.066, validation loss: 0.193\n",
      "Progress: 100.0% ... Training loss: 0.100 ... Validation loss: 0.197\n",
      "** iteration: 7000, lr: 0.20, hidden node: 4  ------------\t\t train_loss: 0.100, validation loss: 0.197\n",
      "Progress: 100.0% ... Training loss: 0.081 ... Validation loss: 0.176\n",
      "** iteration: 7000, lr: 0.20, hidden node: 5  ------------\t\t train_loss: 0.082, validation loss: 0.177\n",
      "Progress: 100.0% ... Training loss: 0.090 ... Validation loss: 0.185\n",
      "** iteration: 7000, lr: 0.20, hidden node: 6  ------------\t\t train_loss: 0.091, validation loss: 0.185\n",
      "Progress: 100.0% ... Training loss: 0.076 ... Validation loss: 0.169\n",
      "** iteration: 7000, lr: 0.20, hidden node: 7  ------------\t\t train_loss: 0.077, validation loss: 0.170\n",
      "Progress: 100.0% ... Training loss: 0.077 ... Validation loss: 0.170\n",
      "** iteration: 7000, lr: 0.20, hidden node: 8  ------------\t\t train_loss: 0.078, validation loss: 0.170\n",
      "Progress: 100.0% ... Training loss: 0.096 ... Validation loss: 0.214\n",
      "** iteration: 7000, lr: 0.20, hidden node: 9  ------------\t\t train_loss: 0.096, validation loss: 0.215\n",
      "Progress: 100.0% ... Training loss: 0.093 ... Validation loss: 0.177\n",
      "** iteration: 7000, lr: 0.20, hidden node: 10  ------------\t\t train_loss: 0.094, validation loss: 0.178\n",
      "Progress: 100.0% ... Training loss: 0.108 ... Validation loss: 0.220\n",
      "** iteration: 7000, lr: 0.20, hidden node: 11  ------------\t\t train_loss: 0.109, validation loss: 0.220\n",
      "Progress: 100.0% ... Training loss: 0.079 ... Validation loss: 0.171\n",
      "** iteration: 7000, lr: 0.20, hidden node: 12  ------------\t\t train_loss: 0.080, validation loss: 0.172\n",
      "Progress: 100.0% ... Training loss: 0.080 ... Validation loss: 0.172\n",
      "** iteration: 7000, lr: 0.30, hidden node: 4  ------------\t\t train_loss: 0.080, validation loss: 0.172\n",
      "Progress: 100.0% ... Training loss: 0.063 ... Validation loss: 0.151\n",
      "** iteration: 7000, lr: 0.30, hidden node: 5  ------------\t\t train_loss: 0.064, validation loss: 0.152\n",
      "Progress: 100.0% ... Training loss: 0.064 ... Validation loss: 0.145\n",
      "** iteration: 7000, lr: 0.30, hidden node: 6  ------------\t\t train_loss: 0.065, validation loss: 0.146\n",
      "Progress: 100.0% ... Training loss: 0.063 ... Validation loss: 0.161\n",
      "** iteration: 7000, lr: 0.30, hidden node: 7  ------------\t\t train_loss: 0.064, validation loss: 0.162\n",
      "Progress: 100.0% ... Training loss: 0.066 ... Validation loss: 0.150\n",
      "** iteration: 7000, lr: 0.30, hidden node: 8  ------------\t\t train_loss: 0.066, validation loss: 0.151\n",
      "Progress: 100.0% ... Training loss: 0.074 ... Validation loss: 0.173\n",
      "** iteration: 7000, lr: 0.30, hidden node: 9  ------------\t\t train_loss: 0.074, validation loss: 0.173\n",
      "Progress: 100.0% ... Training loss: 0.078 ... Validation loss: 0.168\n",
      "** iteration: 7000, lr: 0.30, hidden node: 10  ------------\t\t train_loss: 0.078, validation loss: 0.169\n",
      "Progress: 100.0% ... Training loss: 0.080 ... Validation loss: 0.167\n",
      "** iteration: 7000, lr: 0.30, hidden node: 11  ------------\t\t train_loss: 0.080, validation loss: 0.168\n",
      "Progress: 100.0% ... Training loss: 0.065 ... Validation loss: 0.152\n",
      "** iteration: 7000, lr: 0.30, hidden node: 12  ------------\t\t train_loss: 0.065, validation loss: 0.152\n",
      "Progress: 100.0% ... Training loss: 0.074 ... Validation loss: 0.171\n",
      "** iteration: 7000, lr: 0.40, hidden node: 4  ------------\t\t train_loss: 0.074, validation loss: 0.172\n",
      "Progress: 100.0% ... Training loss: 0.059 ... Validation loss: 0.148\n",
      "** iteration: 7000, lr: 0.40, hidden node: 5  ------------\t\t train_loss: 0.059, validation loss: 0.149\n",
      "Progress: 100.0% ... Training loss: 0.060 ... Validation loss: 0.143\n",
      "** iteration: 7000, lr: 0.40, hidden node: 6  ------------\t\t train_loss: 0.060, validation loss: 0.143\n",
      "Progress: 100.0% ... Training loss: 0.061 ... Validation loss: 0.158\n",
      "** iteration: 7000, lr: 0.40, hidden node: 7  ------------\t\t train_loss: 0.061, validation loss: 0.159\n",
      "Progress: 100.0% ... Training loss: 0.065 ... Validation loss: 0.145\n",
      "** iteration: 7000, lr: 0.40, hidden node: 8  ------------\t\t train_loss: 0.066, validation loss: 0.146\n",
      "Progress: 100.0% ... Training loss: 0.067 ... Validation loss: 0.162\n",
      "** iteration: 7000, lr: 0.40, hidden node: 9  ------------\t\t train_loss: 0.068, validation loss: 0.162\n"
     ]
    },
    {
     "name": "stdout",
     "output_type": "stream",
     "text": [
      "Progress: 100.0% ... Training loss: 0.072 ... Validation loss: 0.167\n",
      "** iteration: 7000, lr: 0.40, hidden node: 10  ------------\t\t train_loss: 0.072, validation loss: 0.168\n",
      "Progress: 100.0% ... Training loss: 0.063 ... Validation loss: 0.140\n",
      "** iteration: 7000, lr: 0.40, hidden node: 11  ------------\t\t train_loss: 0.063, validation loss: 0.140\n",
      "Progress: 100.0% ... Training loss: 0.060 ... Validation loss: 0.147\n",
      "** iteration: 7000, lr: 0.40, hidden node: 12  ------------\t\t train_loss: 0.061, validation loss: 0.148\n",
      "Progress: 100.0% ... Training loss: 0.071 ... Validation loss: 0.173\n",
      "** iteration: 7000, lr: 0.50, hidden node: 4  ------------\t\t train_loss: 0.072, validation loss: 0.173\n",
      "Progress: 100.0% ... Training loss: 0.058 ... Validation loss: 0.147\n",
      "** iteration: 7000, lr: 0.50, hidden node: 5  ------------\t\t train_loss: 0.058, validation loss: 0.148\n",
      "Progress: 100.0% ... Training loss: 0.059 ... Validation loss: 0.145\n",
      "** iteration: 7000, lr: 0.50, hidden node: 6  ------------\t\t train_loss: 0.059, validation loss: 0.145\n",
      "Progress: 100.0% ... Training loss: 0.061 ... Validation loss: 0.167\n",
      "** iteration: 7000, lr: 0.50, hidden node: 7  ------------\t\t train_loss: 0.061, validation loss: 0.168\n",
      "Progress: 100.0% ... Training loss: 0.071 ... Validation loss: 0.145\n",
      "** iteration: 7000, lr: 0.50, hidden node: 8  ------------\t\t train_loss: 0.071, validation loss: 0.146\n",
      "Progress: 100.0% ... Training loss: 0.062 ... Validation loss: 0.167\n",
      "** iteration: 7000, lr: 0.50, hidden node: 9  ------------\t\t train_loss: 0.062, validation loss: 0.168\n",
      "Progress: 100.0% ... Training loss: 0.064 ... Validation loss: 0.162\n",
      "** iteration: 7000, lr: 0.50, hidden node: 10  ------------\t\t train_loss: 0.064, validation loss: 0.163\n",
      "Progress: 100.0% ... Training loss: 0.059 ... Validation loss: 0.131\n",
      "** iteration: 7000, lr: 0.50, hidden node: 11  ------------\t\t train_loss: 0.059, validation loss: 0.131\n",
      "Progress: 100.0% ... Training loss: 0.059 ... Validation loss: 0.159\n",
      "** iteration: 7000, lr: 0.50, hidden node: 12  ------------\t\t train_loss: 0.060, validation loss: 0.160\n",
      "Progress: 100.0% ... Training loss: 0.090 ... Validation loss: 0.186\n",
      "** iteration: 8000, lr: 0.20, hidden node: 4  ------------\t\t train_loss: 0.091, validation loss: 0.187\n",
      "Progress: 100.0% ... Training loss: 0.073 ... Validation loss: 0.164\n",
      "** iteration: 8000, lr: 0.20, hidden node: 5  ------------\t\t train_loss: 0.073, validation loss: 0.165\n",
      "Progress: 100.0% ... Training loss: 0.076 ... Validation loss: 0.163\n",
      "** iteration: 8000, lr: 0.20, hidden node: 6  ------------\t\t train_loss: 0.076, validation loss: 0.163\n",
      "Progress: 100.0% ... Training loss: 0.068 ... Validation loss: 0.163\n",
      "** iteration: 8000, lr: 0.20, hidden node: 7  ------------\t\t train_loss: 0.069, validation loss: 0.163\n",
      "Progress: 100.0% ... Training loss: 0.071 ... Validation loss: 0.165\n",
      "** iteration: 8000, lr: 0.20, hidden node: 8  ------------\t\t train_loss: 0.071, validation loss: 0.165\n",
      "Progress: 100.0% ... Training loss: 0.085 ... Validation loss: 0.203\n",
      "** iteration: 8000, lr: 0.20, hidden node: 9  ------------\t\t train_loss: 0.086, validation loss: 0.204\n",
      "Progress: 100.0% ... Training loss: 0.085 ... Validation loss: 0.176\n",
      "** iteration: 8000, lr: 0.20, hidden node: 10  ------------\t\t train_loss: 0.085, validation loss: 0.177\n",
      "Progress: 100.0% ... Training loss: 0.097 ... Validation loss: 0.199\n",
      "** iteration: 8000, lr: 0.20, hidden node: 11  ------------\t\t train_loss: 0.098, validation loss: 0.199\n",
      "Progress: 100.0% ... Training loss: 0.072 ... Validation loss: 0.172\n",
      "** iteration: 8000, lr: 0.20, hidden node: 12  ------------\t\t train_loss: 0.072, validation loss: 0.172\n",
      "Progress: 100.0% ... Training loss: 0.076 ... Validation loss: 0.175\n",
      "** iteration: 8000, lr: 0.30, hidden node: 4  ------------\t\t train_loss: 0.076, validation loss: 0.176\n",
      "Progress: 100.0% ... Training loss: 0.062 ... Validation loss: 0.154\n",
      "** iteration: 8000, lr: 0.30, hidden node: 5  ------------\t\t train_loss: 0.062, validation loss: 0.155\n",
      "Progress: 100.0% ... Training loss: 0.061 ... Validation loss: 0.145\n",
      "** iteration: 8000, lr: 0.30, hidden node: 6  ------------\t\t train_loss: 0.062, validation loss: 0.146\n",
      "Progress: 100.0% ... Training loss: 0.058 ... Validation loss: 0.158\n",
      "** iteration: 8000, lr: 0.30, hidden node: 7  ------------\t\t train_loss: 0.059, validation loss: 0.159\n",
      "Progress: 100.0% ... Training loss: 0.062 ... Validation loss: 0.155\n",
      "** iteration: 8000, lr: 0.30, hidden node: 8  ------------\t\t train_loss: 0.063, validation loss: 0.155\n",
      "Progress: 100.0% ... Training loss: 0.069 ... Validation loss: 0.169\n",
      "** iteration: 8000, lr: 0.30, hidden node: 9  ------------\t\t train_loss: 0.069, validation loss: 0.169\n",
      "Progress: 100.0% ... Training loss: 0.071 ... Validation loss: 0.166\n",
      "** iteration: 8000, lr: 0.30, hidden node: 10  ------------\t\t train_loss: 0.072, validation loss: 0.166\n",
      "Progress: 100.0% ... Training loss: 0.072 ... Validation loss: 0.154\n",
      "** iteration: 8000, lr: 0.30, hidden node: 11  ------------\t\t train_loss: 0.073, validation loss: 0.155\n",
      "Progress: 100.0% ... Training loss: 0.062 ... Validation loss: 0.170\n",
      "** iteration: 8000, lr: 0.30, hidden node: 12  ------------\t\t train_loss: 0.062, validation loss: 0.170\n",
      "Progress: 100.0% ... Training loss: 0.072 ... Validation loss: 0.184\n",
      "** iteration: 8000, lr: 0.40, hidden node: 4  ------------\t\t train_loss: 0.072, validation loss: 0.185\n",
      "Progress: 100.0% ... Training loss: 0.059 ... Validation loss: 0.156\n",
      "** iteration: 8000, lr: 0.40, hidden node: 5  ------------\t\t train_loss: 0.059, validation loss: 0.157\n",
      "Progress: 100.0% ... Training loss: 0.058 ... Validation loss: 0.144\n",
      "** iteration: 8000, lr: 0.40, hidden node: 6  ------------\t\t train_loss: 0.059, validation loss: 0.145\n",
      "Progress: 100.0% ... Training loss: 0.056 ... Validation loss: 0.158\n",
      "** iteration: 8000, lr: 0.40, hidden node: 7  ------------\t\t train_loss: 0.056, validation loss: 0.158\n",
      "Progress: 100.0% ... Training loss: 0.062 ... Validation loss: 0.147\n",
      "** iteration: 8000, lr: 0.40, hidden node: 8  ------------\t\t train_loss: 0.063, validation loss: 0.148\n",
      "Progress: 100.0% ... Training loss: 0.064 ... Validation loss: 0.165\n",
      "** iteration: 8000, lr: 0.40, hidden node: 9  ------------\t\t train_loss: 0.064, validation loss: 0.166\n",
      "Progress: 100.0% ... Training loss: 0.070 ... Validation loss: 0.161\n",
      "** iteration: 8000, lr: 0.40, hidden node: 10  ------------\t\t train_loss: 0.070, validation loss: 0.161\n",
      "Progress: 100.0% ... Training loss: 0.059 ... Validation loss: 0.140\n",
      "** iteration: 8000, lr: 0.40, hidden node: 11  ------------\t\t train_loss: 0.060, validation loss: 0.141\n",
      "Progress: 100.0% ... Training loss: 0.058 ... Validation loss: 0.169\n",
      "** iteration: 8000, lr: 0.40, hidden node: 12  ------------\t\t train_loss: 0.059, validation loss: 0.169\n",
      "Progress: 100.0% ... Training loss: 0.071 ... Validation loss: 0.197\n",
      "** iteration: 8000, lr: 0.50, hidden node: 4  ------------\t\t train_loss: 0.072, validation loss: 0.197\n",
      "Progress: 100.0% ... Training loss: 0.058 ... Validation loss: 0.157\n",
      "** iteration: 8000, lr: 0.50, hidden node: 5  ------------\t\t train_loss: 0.058, validation loss: 0.158\n",
      "Progress: 100.0% ... Training loss: 0.057 ... Validation loss: 0.145\n",
      "** iteration: 8000, lr: 0.50, hidden node: 6  ------------\t\t train_loss: 0.058, validation loss: 0.145\n",
      "Progress: 100.0% ... Training loss: 0.060 ... Validation loss: 0.178\n",
      "** iteration: 8000, lr: 0.50, hidden node: 7  ------------\t\t train_loss: 0.061, validation loss: 0.178\n",
      "Progress: 100.0% ... Training loss: 0.064 ... Validation loss: 0.140\n",
      "** iteration: 8000, lr: 0.50, hidden node: 8  ------------\t\t train_loss: 0.065, validation loss: 0.141\n",
      "Progress: 100.0% ... Training loss: 0.059 ... Validation loss: 0.172\n",
      "** iteration: 8000, lr: 0.50, hidden node: 9  ------------\t\t train_loss: 0.060, validation loss: 0.173\n",
      "Progress: 100.0% ... Training loss: 0.065 ... Validation loss: 0.153\n",
      "** iteration: 8000, lr: 0.50, hidden node: 10  ------------\t\t train_loss: 0.066, validation loss: 0.154\n",
      "Progress: 100.0% ... Training loss: 0.057 ... Validation loss: 0.136\n",
      "** iteration: 8000, lr: 0.50, hidden node: 11  ------------\t\t train_loss: 0.057, validation loss: 0.137\n",
      "Progress: 100.0% ... Training loss: 0.059 ... Validation loss: 0.177\n",
      "** iteration: 8000, lr: 0.50, hidden node: 12  ------------\t\t train_loss: 0.059, validation loss: 0.178\n"
     ]
    },
    {
     "name": "stdout",
     "output_type": "stream",
     "text": [
      "Progress: 100.0% ... Training loss: 0.084 ... Validation loss: 0.173\n",
      "** iteration: 9000, lr: 0.20, hidden node: 4  ------------\t\t train_loss: 0.085, validation loss: 0.174\n",
      "Progress: 100.0% ... Training loss: 0.068 ... Validation loss: 0.150\n",
      "** iteration: 9000, lr: 0.20, hidden node: 5  ------------\t\t train_loss: 0.068, validation loss: 0.150\n",
      "Progress: 100.0% ... Training loss: 0.069 ... Validation loss: 0.147\n",
      "** iteration: 9000, lr: 0.20, hidden node: 6  ------------\t\t train_loss: 0.070, validation loss: 0.147\n",
      "Progress: 100.0% ... Training loss: 0.065 ... Validation loss: 0.153\n",
      "** iteration: 9000, lr: 0.20, hidden node: 7  ------------\t\t train_loss: 0.066, validation loss: 0.154\n",
      "Progress: 100.0% ... Training loss: 0.068 ... Validation loss: 0.149\n",
      "** iteration: 9000, lr: 0.20, hidden node: 8  ------------\t\t train_loss: 0.068, validation loss: 0.149\n",
      "Progress: 100.0% ... Training loss: 0.079 ... Validation loss: 0.179\n",
      "** iteration: 9000, lr: 0.20, hidden node: 9  ------------\t\t train_loss: 0.080, validation loss: 0.179\n",
      "Progress: 100.0% ... Training loss: 0.080 ... Validation loss: 0.164\n",
      "** iteration: 9000, lr: 0.20, hidden node: 10  ------------\t\t train_loss: 0.081, validation loss: 0.165\n",
      "Progress: 100.0% ... Training loss: 0.088 ... Validation loss: 0.175\n",
      "** iteration: 9000, lr: 0.20, hidden node: 11  ------------\t\t train_loss: 0.089, validation loss: 0.175\n",
      "Progress: 100.0% ... Training loss: 0.067 ... Validation loss: 0.159\n",
      "** iteration: 9000, lr: 0.20, hidden node: 12  ------------\t\t train_loss: 0.068, validation loss: 0.159\n",
      "Progress: 100.0% ... Training loss: 0.074 ... Validation loss: 0.168\n",
      "** iteration: 9000, lr: 0.30, hidden node: 4  ------------\t\t train_loss: 0.074, validation loss: 0.169\n",
      "Progress: 100.0% ... Training loss: 0.059 ... Validation loss: 0.142\n",
      "** iteration: 9000, lr: 0.30, hidden node: 5  ------------\t\t train_loss: 0.060, validation loss: 0.142\n",
      "Progress: 100.0% ... Training loss: 0.060 ... Validation loss: 0.136\n",
      "** iteration: 9000, lr: 0.30, hidden node: 6  ------------\t\t train_loss: 0.060, validation loss: 0.137\n",
      "Progress: 100.0% ... Training loss: 0.058 ... Validation loss: 0.148\n",
      "** iteration: 9000, lr: 0.30, hidden node: 7  ------------\t\t train_loss: 0.058, validation loss: 0.149\n",
      "Progress: 100.0% ... Training loss: 0.061 ... Validation loss: 0.141\n",
      "** iteration: 9000, lr: 0.30, hidden node: 8  ------------\t\t train_loss: 0.061, validation loss: 0.141\n",
      "Progress: 100.0% ... Training loss: 0.065 ... Validation loss: 0.155\n",
      "** iteration: 9000, lr: 0.30, hidden node: 9  ------------\t\t train_loss: 0.065, validation loss: 0.155\n",
      "Progress: 100.0% ... Training loss: 0.067 ... Validation loss: 0.161\n",
      "** iteration: 9000, lr: 0.30, hidden node: 10  ------------\t\t train_loss: 0.068, validation loss: 0.162\n",
      "Progress: 14.8% ... Training loss: 0.242 ... Validation loss: 0.406"
     ]
    }
   ],
   "source": [
    "grid = {'iteration' : [5000, 6000, 7000, 8000, 9000, 10000], 'lr' : [0.2, 0.3, 0.4, 0.5], 'hidden_node' : [4, 5, 6, 7, 8, 9, 10, 11, 12]}\n",
    "for i in grid['iteration']:\n",
    "     for l in grid['lr']:\n",
    "            for h in grid['hidden_node']:\n",
    "                hyper_run(i, l, h, 1)"
   ]
  },
  {
   "cell_type": "code",
   "execution_count": 147,
   "metadata": {},
   "outputs": [
    {
     "name": "stdout",
     "output_type": "stream",
     "text": [
      "Progress: 99.0% ... Training loss: 0.513 ... Validation loss: 0.883\n",
      "** iteration: 100, lr: 0.40, hidden node: 12  ------------\t\t train_loss: 0.514, validation loss: 0.883\n"
     ]
    }
   ],
   "source": [
    "hyper_run(100, 0.4, 12, 1)"
   ]
  },
  {
   "cell_type": "code",
   "execution_count": 129,
   "metadata": {},
   "outputs": [
    {
     "name": "stdout",
     "output_type": "stream",
     "text": [
      "Progress: 100.0% ... Training loss: 0.063 ... Validation loss: 0.171"
     ]
    },
    {
     "data": {
      "image/png": "[encoded data removed]",
      "text/plain": [
       "<matplotlib.figure.Figure at 0x7fd50d670588>"
      ]
     },
     "metadata": {
      "image/png": {
       "height": 250,
       "width": 373
      }
     },
     "output_type": "display_data"
    }
   ],
   "source": [
    "hyper_run(10000, 0.3, 12, 1)"
   ]
  },
  {
   "cell_type": "code",
   "execution_count": 127,
   "metadata": {},
   "outputs": [
    {
     "name": "stdout",
     "output_type": "stream",
     "text": [
      "Progress: 100.0% ... Training loss: 0.065 ... Validation loss: 0.167"
     ]
    },
    {
     "data": {
      "image/png": "[encoded data removed]",
      "text/plain": [
       "<matplotlib.figure.Figure at 0x7fd50d1920b8>"
      ]
     },
     "metadata": {
      "image/png": {
       "height": 250,
       "width": 373
      }
     },
     "output_type": "display_data"
    }
   ],
   "source": [
    "hyper_run(10000, 0.4, 12, 1)"
   ]
  },
  {
   "cell_type": "code",
   "execution_count": null,
   "metadata": {
    "collapsed": true
   },
   "outputs": [],
   "source": [
    "hyper_run(10000, 0.5, 12, 1)"
   ]
  },
  {
   "cell_type": "code",
   "execution_count": null,
   "metadata": {
    "collapsed": true
   },
   "outputs": [],
   "source": [
    "hyper_run(10000, 0.2, 4, 1)"
   ]
  },
  {
   "cell_type": "code",
   "execution_count": null,
   "metadata": {
    "collapsed": true
   },
   "outputs": [],
   "source": [
    "hyper_run(10000, 0.3, 4, 1)"
   ]
  },
  {
   "cell_type": "code",
   "execution_count": null,
   "metadata": {
    "collapsed": true
   },
   "outputs": [],
   "source": [
    "hyper_run(10000, 0.4, 4, 1)"
   ]
  },
  {
   "cell_type": "code",
   "execution_count": null,
   "metadata": {
    "collapsed": true
   },
   "outputs": [],
   "source": [
    "hyper_run(10000, 0.5, 4, 1)"
   ]
  },
  {
   "cell_type": "code",
   "execution_count": null,
   "metadata": {
    "collapsed": true
   },
   "outputs": [],
   "source": [
    "hyper_run(8000, 0.2, 12, 1)"
   ]
  },
  {
   "cell_type": "code",
   "execution_count": null,
   "metadata": {
    "collapsed": true
   },
   "outputs": [],
   "source": [
    "hyper_run(8000, 0.3, 12, 1)"
   ]
  },
  {
   "cell_type": "code",
   "execution_count": null,
   "metadata": {
    "collapsed": true
   },
   "outputs": [],
   "source": [
    "hyper_run(8000, 0.4, 12, 1)"
   ]
  },
  {
   "cell_type": "code",
   "execution_count": null,
   "metadata": {
    "collapsed": true
   },
   "outputs": [],
   "source": [
    "hyper_run(8000, 0.5, 12, 1)"
   ]
  },
  {
   "cell_type": "code",
   "execution_count": null,
   "metadata": {
    "collapsed": true
   },
   "outputs": [],
   "source": [
    "hyper_run(8000, 0.2, , 1)"
   ]
  },
  {
   "cell_type": "code",
   "execution_count": null,
   "metadata": {
    "collapsed": true
   },
   "outputs": [],
   "source": [
    "hyper_run(8000, 0.3, 4, 1)"
   ]
  },
  {
   "cell_type": "code",
   "execution_count": null,
   "metadata": {
    "collapsed": true
   },
   "outputs": [],
   "source": [
    "hyper_run(8000, 0.4, 4, 1)"
   ]
  },
  {
   "cell_type": "code",
   "execution_count": null,
   "metadata": {
    "collapsed": true
   },
   "outputs": [],
   "source": [
    "hyper_run(8000, 0.5, 4, 1)"
   ]
  },
  {
   "cell_type": "code",
   "execution_count": null,
   "metadata": {
    "collapsed": true
   },
   "outputs": [],
   "source": [
    "hyper_run(6000, 0.2, 12, 1)"
   ]
  },
  {
   "cell_type": "code",
   "execution_count": null,
   "metadata": {
    "collapsed": true
   },
   "outputs": [],
   "source": [
    "hyper_run(6000, 0.3, 12, 1)"
   ]
  },
  {
   "cell_type": "code",
   "execution_count": null,
   "metadata": {
    "collapsed": true
   },
   "outputs": [],
   "source": [
    "hyper_run(6000, 0.4, 12, 1)"
   ]
  },
  {
   "cell_type": "code",
   "execution_count": null,
   "metadata": {
    "collapsed": true
   },
   "outputs": [],
   "source": [
    "hyper_run(6000, 0.5, 12, 1)"
   ]
  },
  {
   "cell_type": "code",
   "execution_count": null,
   "metadata": {
    "collapsed": true
   },
   "outputs": [],
   "source": [
    "hyper_run(8000, 0.2, 10, 1)"
   ]
  },
  {
   "cell_type": "code",
   "execution_count": null,
   "metadata": {
    "collapsed": true
   },
   "outputs": [],
   "source": [
    "hyper_run(8000, 0.3, 10, 1)"
   ]
  },
  {
   "cell_type": "code",
   "execution_count": null,
   "metadata": {
    "collapsed": true
   },
   "outputs": [],
   "source": [
    "hyper_run(8000, 0.4, 10, 1)"
   ]
  },
  {
   "cell_type": "code",
   "execution_count": null,
   "metadata": {
    "collapsed": true
   },
   "outputs": [],
   "source": [
    "hyper_run(8000, 0.5, 10, 1)"
   ]
  },
  {
   "cell_type": "code",
   "execution_count": null,
   "metadata": {},
   "outputs": [],
   "source": [
    "plt.plot(losses['train'], label='Training loss')\n",
    "plt.plot(losses['validation'], label='Validation loss')\n",
    "plt.legend()\n",
    "_ = plt.ylim()"
   ]
  },
  {
   "cell_type": "markdown",
   "metadata": {},
   "source": [
    "## Check out your predictions\n",
    "\n",
    "Here, use the test data to view how well your network is modeling the data. If something is completely wrong here, make sure each step in your network is implemented correctly."
   ]
  },
  {
   "cell_type": "code",
   "execution_count": null,
   "metadata": {},
   "outputs": [],
   "source": [
    "fig, ax = plt.subplots(figsize=(8,4))\n",
    "\n",
    "mean, std = scaled_features['cnt']\n",
    "predictions = network.run(test_features).T*std + mean\n",
    "ax.plot(predictions[0], label='Prediction')\n",
    "ax.plot((test_targets['cnt']*std + mean).values, label='Data')\n",
    "ax.set_xlim(right=len(predictions))\n",
    "ax.legend()\n",
    "\n",
    "dates = pd.to_datetime(rides.ix[test_data.index]['dteday'])\n",
    "dates = dates.apply(lambda d: d.strftime('%b %d'))\n",
    "ax.set_xticks(np.arange(len(dates))[12::24])\n",
    "_ = ax.set_xticklabels(dates[12::24], rotation=45)"
   ]
  },
  {
   "cell_type": "markdown",
   "metadata": {},
   "source": [
    "## OPTIONAL: Thinking about your results(this question will not be evaluated in the rubric).\n",
    " \n",
    "Answer these questions about your results. How well does the model predict the data? Where does it fail? Why does it fail where it does?\n",
    "\n",
    "> **Note:** You can edit the text in this cell by double clicking on it. When you want to render the text, press control + enter\n",
    "\n",
    "#### Your answer below"
   ]
  },
  {
   "cell_type": "code",
   "execution_count": null,
   "metadata": {
    "collapsed": true
   },
   "outputs": [],
   "source": []
  }
 ],
 "metadata": {
  "anaconda-cloud": {},
  "kernelspec": {
   "display_name": "Python 3",
   "language": "python",
   "name": "python3"
  },
  "language_info": {
   "codemirror_mode": {
    "name": "ipython",
    "version": 3
   },
   "file_extension": ".py",
   "mimetype": "text/x-python",
   "name": "python",
   "nbconvert_exporter": "python",
   "pygments_lexer": "ipython3",
   "version": "3.6.1"
  }
 },
 "nbformat": 4,
 "nbformat_minor": 2
}
